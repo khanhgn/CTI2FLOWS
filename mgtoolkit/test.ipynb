msg = "Hello! This is my first test"
print(msg)